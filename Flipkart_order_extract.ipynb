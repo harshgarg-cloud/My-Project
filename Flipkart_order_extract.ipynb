{
 "cells": [
  {
   "cell_type": "code",
   "execution_count": null,
   "metadata": {},
   "outputs": [],
   "source": [
    "import pandas as pd\n",
    "from selenium import webdriver \n",
    "import time\n",
    "import os\n",
    "from webdriver_manager.chrome import ChromeDriverManager\n",
    "from selenium.webdriver.common.keys import Keys\n",
    "from selenium.webdriver.common.by import By\n",
    "import requests\n",
    "import urllib\n",
    "import urllib.request as ul\n",
    "import getpass\n",
    "from bs4 import BeautifulSoup as bsp\n",
    "import csv \n",
    "import webbrowser\n",
    "import Selenium2Library\n",
    "from pyvirtualdisplay import Display"
   ]
  },
  {
   "cell_type": "code",
   "execution_count": null,
   "metadata": {},
   "outputs": [],
   "source": [
    "products=[] #List to name of the product\n",
    "prices=[] #List to price of the product\n",
    "ratings=[]\n",
    "status = []\n",
    "categories = []\n",
    "Ratings = []\n",
    "links = []\n",
    "final_links = []"
   ]
  },
  {
   "cell_type": "code",
   "execution_count": null,
   "metadata": {},
   "outputs": [],
   "source": [
    "              #  ***********      Call driver     ***************\n",
    "driver = webdriver.Chrome(r\"C:\\Users\\harsh\\AppData\\Local\\Programs\\Python\\Python37\\Scripts\\chromedriver\")\n",
    "driver.maximize_window()\n",
    "\n",
    "              #    ***********     Login Page  *****************\n",
    "\n",
    "url = \"https://www.flipkart.com/account/orders?link=home_orders\"\n",
    "driver.get(url)\n",
    "\n",
    "             #    ************     Enter Username    *************\n",
    "\n",
    "username = input(\"Enter number or Email Id \")\n",
    "user = driver.find_element_by_class_name(\"_2zrpKA \").send_keys(username)\n",
    "\n",
    "        #     *****************   Enter Password      *************\n",
    "\n",
    "pwd = getpass.getpass(\"password\")\n",
    "driver.find_element_by_class_name(\"_2zrpKA._3v41xv._1dBPDZ\").send_keys(pwd)\n",
    "\n",
    "driver.implicitly_wait(1)\n",
    "\n",
    "      #    ************     Click on submit button    **************\n",
    "\n",
    "driver.find_element_by_xpath('//*[@id=\"container\"]/div/div[3]/div/div[2]/div/form/div[3]/button/span').click()\n",
    "#otp = driver.find_element_by_class_name(\"_2AkmmA _1LctnI jUwFiZ\").click()\n",
    "#driver.implicitly_wait(5)\n",
    "parent_window = driver.window_handles[0]\n",
    "parent_window_title = driver.title\n",
    "print(parent_window_title)"
   ]
  },
  {
   "cell_type": "code",
   "execution_count": null,
   "metadata": {},
   "outputs": [],
   "source": [
    "SCROLL_PAUSE_TIME = 2\n",
    "\n",
    "# Get scroll height\n",
    "last_height = driver.execute_script(\"return document.body.scrollHeight\")\n",
    "\n",
    "while True:\n",
    "    # Scroll down to bottom\n",
    "    driver.execute_script(\"window.scrollTo(0, document.body.scrollHeight);\")\n",
    "\n",
    "    # Wait to load page\n",
    "    time.sleep(SCROLL_PAUSE_TIME)\n",
    "\n",
    "    # Calculate new scroll height and compare with last scroll height\n",
    "    new_height = driver.execute_script(\"return document.body.scrollHeight\")\n",
    "    if new_height == last_height:\n",
    "        break\n",
    "    last_height = new_height\n",
    "\n",
    "html_source = driver.page_source\n"
   ]
  },
  {
   "cell_type": "code",
   "execution_count": null,
   "metadata": {},
   "outputs": [],
   "source": [
    "if ('class=\"row _13y4_y _1iu0PI\"') in html_source:\n",
    "    print('Found it!')\n",
    "else:\n",
    "    print('Did not find it.')"
   ]
  },
  {
   "cell_type": "code",
   "execution_count": null,
   "metadata": {},
   "outputs": [],
   "source": [
    "soup = bsp(html_source)\n",
    "add_url = 'https://www.flipkart.com'\n",
    "for a in soup.findAll('a' , href = True , attrs={'class':'_2WFi0x'}):\n",
    "    name=a.find('span', attrs={'class':'row _13y4_y _1iu0PI'})\n",
    "    price=a.find('div', attrs={'class':'col-2-12 JL36Xz'})\n",
    "    stay=a.find('span', attrs={'class':'_7BRRQk'})\n",
    "    products.append(name.text)\n",
    "    prices.append(price.text)\n",
    "    status.append(stay.text.split()[0])\n",
    "    links.append(add_url + a.get('href'))"
   ]
  },
  {
   "cell_type": "code",
   "execution_count": null,
   "metadata": {
    "scrolled": true
   },
   "outputs": [],
   "source": [
    "dicn = {\"PRODUCT\":products, \"Prices\":prices,\"STATUS\": status}\n",
    "df = pd.DataFrame(dicn)\n",
    "df"
   ]
  },
  {
   "cell_type": "code",
   "execution_count": null,
   "metadata": {},
   "outputs": [],
   "source": []
  }
 ],
 "metadata": {
  "kernelspec": {
   "display_name": "Python 3",
   "language": "python",
   "name": "python3"
  },
  "language_info": {
   "codemirror_mode": {
    "name": "ipython",
    "version": 3
   },
   "file_extension": ".py",
   "mimetype": "text/x-python",
   "name": "python",
   "nbconvert_exporter": "python",
   "pygments_lexer": "ipython3",
   "version": "3.7.6"
  }
 },
 "nbformat": 4,
 "nbformat_minor": 4
}
